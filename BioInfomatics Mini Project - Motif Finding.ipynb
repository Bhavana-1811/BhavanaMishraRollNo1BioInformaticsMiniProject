{
 "cells": [
  {
   "cell_type": "code",
   "execution_count": 4,
   "id": "3d98e78f",
   "metadata": {},
   "outputs": [
    {
     "name": "stdout",
     "output_type": "stream",
     "text": [
      "Sequence is:  ATGAATCCAAATCAGAAAATAATAACCATTGGATCAATCTGTATGGTAGTCGGAATAATTAGCCTAATATTGCAAATAGGGAATATTATCTCAATATGGATTAGCCATTCAATTCAAACTGGAAGTCAAAACCATACTGGAATATGCAACCAAAGCATCATTACCTATAAAAATAGCACCTGGGTAAATCAAACATATGTTAATATTAGCAACACTAACGTTGTTGCTGGAAAAGGCACAACTTCAGTGATATTAGCCGGCAATTCATCTCTTTGTCCTATCCGTGGGTGGGCTATATACAGCAAAGATAACGGCATAAGAATTGGTTCCAAAGGAGATGTTTTTGTCATAAGAGAGCCTTTTATTTCATGTTCTCACTTGGAATGCAGGACTTTTTTTCTGACCCAAGGCGCCCTGTTGAATGACAAGCATTCAAATGGGACCGTTAAGGACAGAAGCCCTTATAGGGCCTTGATGAGCTGCCCTGTCGGTGAAGCTCCGTCCCCGTACAATTCAAGGTTTGAATCGGTTGCTTGGTCAGCAAGTGCATGTCATGATGGCATGGGCTGGCTAACAATCGGAATTTCTGGTCCAGATGATGAAGCAGTGGCTGTGTTAAAATACAACGGCATAATAACTGAAACCATAAAAAGTTGGAGGAAGAAAATATTGAGAACACAAGAGTCTGAATGTGTCTGTGTAAATGGTTCATGTTTTACTATAATGACCGACGGCCCGAGTGATGGCCAGGCCTCGTACAAAATTTTCAAGATCGAGAAGGGGAAGGTTACTAAATCAATAGAGTTGGATGCACCTAATTCTCACTACGAGGAATGTTCCTGTTACCCTGATACCGGCAAGGTGATGTGTGTGTGCAGAGACAATTGGCACGGTTCGAACCGACCATGGGTGTCTTTCGATCAAAATCTGGATTATCAAATAGGATACATCTGCAGTGGGGTTTTCGGTGACAATCCGCGTTCCAAAGATGGAAAAGGCAGCTGTGGTCCGGTGTATGTTGATGGAGCAAACGGAGTAAAGGGATTTTCATACAGGTATGGTAATGGTGTTTGGATAGGAAGGACTAAAAGTGACAGTTCCAGACAGGGGTTTGAGATGATTTGGGATCCTAATGGGTGGACAGAGACTGATAGTAATTTCTTTGTGAAACAAGATATAGTGGCTATGACTGATTGGTCAGGGTACAGCGGAAGTTTCGTTCAACATCCTGAGCTAACAGGGCTGGACTGTATGAGGCCTTGCTTCTGGGTTGAATTAATCAGGGGACGACCTAAAGAAAAAACAATCTGGACTAGTGGGAGCAGCATTTCTTTTTGTGGCGTGAATAGTGATACTGTAGACTGGTCTTGGCCAGACGGTGCCGAATTGCCATTCACCATTGACAAGTAG\n",
      "Size of the sequence 1410\n",
      "Enter the position to search motif: 3\n",
      "Position is:  3\n",
      "Enter the length of motif: 5\n",
      "Length of Motif is: 5\n",
      "Motif is:  AATCC\n",
      "Motif Matched at position: 972 977\n"
     ]
    }
   ],
   "source": [
    "import random\n",
    "import re\n",
    "\n",
    "file = open('E:\\MSC CS SEM 1\\BioInformatics\\Bio Informatics Practical\\H1N1_seq.txt','r')\n",
    "file_content = file.read()\n",
    "print(\"Sequence is: \", file_content)\n",
    "size = len(file_content)\n",
    "print(\"Size of the sequence\", size)\n",
    "pos = int(input(\"Enter the position to search motif: \"))\n",
    "print(\"Position is: \", pos)\n",
    "length = int(input(\"Enter the length of motif: \"))\n",
    "print(\"Length of Motif is:\", length)\n",
    "motif = file_content[pos:pos + length]\n",
    "print('Motif is: ',motif)\n",
    "\n",
    "for m in re.finditer(motif, file_content):\n",
    "    if m.start() != pos:\n",
    "        print('Motif Matched at position:', m.start(), m.end())\n",
    "        output = open('motif_output.txt', 'a+')\n",
    "        output.write('Motif '+str(motif)+' Matched at position:'+str(m.start())+','+str(m.end())+'\\n')\n",
    "        output.close()\n"
   ]
  },
  {
   "cell_type": "code",
   "execution_count": null,
   "id": "5ab8382f",
   "metadata": {},
   "outputs": [],
   "source": []
  }
 ],
 "metadata": {
  "kernelspec": {
   "display_name": "Python 3 (ipykernel)",
   "language": "python",
   "name": "python3"
  },
  "language_info": {
   "codemirror_mode": {
    "name": "ipython",
    "version": 3
   },
   "file_extension": ".py",
   "mimetype": "text/x-python",
   "name": "python",
   "nbconvert_exporter": "python",
   "pygments_lexer": "ipython3",
   "version": "3.9.7"
  }
 },
 "nbformat": 4,
 "nbformat_minor": 5
}
